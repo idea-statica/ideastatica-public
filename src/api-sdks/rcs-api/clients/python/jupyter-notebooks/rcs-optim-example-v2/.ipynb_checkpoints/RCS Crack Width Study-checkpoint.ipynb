{
 "cells": [
  {
   "cell_type": "markdown",
   "id": "025ba7be",
   "metadata": {},
   "source": [
    "# Example - Crack width study\n",
    "\n",
    "The following example shows some of the features of the new RCS API.\n",
    "\n",
    "Taking an existing file with a section that has a pre-defined reinforced cross-section we can modify the loading on the section to study effects the effects of the capcaity and crack width.\n",
    "\n",
    "## Crack width study method\n",
    "\n",
    "We can take the base model **crack-width-example.IdeaRcs** and open it using the API, we can then make modifications to it. \n",
    "\n",
    "After we open the project we will automate the following steps:\n",
    "1. Increment the current internal force **My** by a choosen increment of moment loading.\n",
    "2. Run the calculation.\n",
    "3. Extract the results we want to check from the calculation - actually crack width.\n",
    "4. Add the results to a dataframe which we can use to plot on a graph.\n",
    "\n",
    "Below is and image of the base cross-section.\n",
    "\n",
    "<img src=\"crack_width_section.png\" alt=\"section\" style=\"border: 2px solid black\">"
   ]
  },
  {
   "cell_type": "code",
   "execution_count": null,
   "id": "12ef18c4",
   "metadata": {},
   "outputs": [],
   "source": [
    "#install all required packages \n",
    "#!pip install ideastatica-rcs-api==25.0.1.1008\n",
    "#!pip install xmltodict\n",
    "#!pip install pandas\n",
    "#!pip install matplotlib\n",
    "#!pip install numpy\n",
    "\n",
    "#import matplotlib as mpl\n",
    "#import matplotlib.pyplot as plt\n",
    "#import numpy as np"
   ]
  },
  {
   "cell_type": "code",
   "execution_count": null,
   "id": "4230af4d",
   "metadata": {},
   "outputs": [],
   "source": [
    "import project_calculator_v2\n",
    "\n",
    "# file name of a rsc project to be calculate\n",
    "project_to_calculate = r\"crack-width-example.IdeaRcs\"\n",
    "\n",
    "#The increment of moment increase after each step.\n",
    "moment_step = 3000\n",
    "\n",
    "# det details from the rcs project\n",
    "df_sections = project_calculator_v2.get_section_details(project_to_calculate)\n",
    "\n",
    "df_sections\n"
   ]
  },
  {
   "cell_type": "code",
   "execution_count": null,
   "id": "eb9846ad",
   "metadata": {},
   "outputs": [],
   "source": []
  }
 ],
 "metadata": {
  "kernelspec": {
   "display_name": "Python 3 (ipykernel)",
   "language": "python",
   "name": "python3"
  },
  "language_info": {
   "codemirror_mode": {
    "name": "ipython",
    "version": 3
   },
   "file_extension": ".py",
   "mimetype": "text/x-python",
   "name": "python",
   "nbconvert_exporter": "python",
   "pygments_lexer": "ipython3",
   "version": "3.11.5"
  }
 },
 "nbformat": 4,
 "nbformat_minor": 5
}
