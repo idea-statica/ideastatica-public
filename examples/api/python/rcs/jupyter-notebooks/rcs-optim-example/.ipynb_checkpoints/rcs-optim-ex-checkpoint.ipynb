{
 "cells": [
  {
   "cell_type": "markdown",
   "id": "6cf163e6-07d2-4f90-9402-30a5e9858e59",
   "metadata": {},
   "source": [
    "# Example - Sensitivity Study of Reinforcement\n",
    "\n",
    "The following example shows some of the features of the new RCS API.\n",
    "\n",
    "Taking an existing file with a section that has pre-defined **cross-section dimensions and loading**, we can add/modify the reinforcement to study effects on the section."
   ]
  },
  {
   "cell_type": "markdown",
   "id": "8005db7f-266d-4cbb-84e8-fafe0098d686",
   "metadata": {},
   "source": [
    "# Simple Sensitivity study \n",
    "\n",
    "We can take the base model **Project2.IdeaRcs** and open it using the API, we can then make modifications to it. \n",
    "\n",
    "After we open the project we will automate the following steps:\n",
    "1. Apply a reinforcement template to the selected design section.\n",
    "2. Run the calculation.\n",
    "3. Extract the results we want to check from the calculation.\n",
    "4. Add the results to a dataframe which we can use to plot on a graph.\n",
    "\n",
    "We will do the following steps for each of the templates shown below:\n",
    "\n",
    "<img src=\"templates_image.png\" alt=\"templates\" style=\"border: 2px solid black\">"
   ]
  },
  {
   "cell_type": "markdown",
   "id": "c03e5df5-7b0e-4c1e-8135-b5fa4f191064",
   "metadata": {
    "jp-MarkdownHeadingCollapsed": true,
    "tags": []
   },
   "source": [
    "## Ensure all the required packages are installed"
   ]
  },
  {
   "cell_type": "code",
   "execution_count": 9,
   "id": "9d1e6b5f-55a5-4c76-a5e3-d65f37dda6a1",
   "metadata": {
    "tags": []
   },
   "outputs": [
    {
     "name": "stdout",
     "output_type": "stream",
     "text": [
      "Requirement already satisfied: xmltodict in c:\\users\\nathanluke\\anaconda3\\lib\\site-packages (0.13.0)\n",
      "Requirement already satisfied: pandas in c:\\users\\nathanluke\\anaconda3\\lib\\site-packages (1.4.4)\n",
      "Requirement already satisfied: python-dateutil>=2.8.1 in c:\\users\\nathanluke\\anaconda3\\lib\\site-packages (from pandas) (2.8.2)\n",
      "Requirement already satisfied: numpy>=1.18.5 in c:\\users\\nathanluke\\anaconda3\\lib\\site-packages (from pandas) (1.21.5)\n",
      "Requirement already satisfied: pytz>=2020.1 in c:\\users\\nathanluke\\anaconda3\\lib\\site-packages (from pandas) (2022.1)\n",
      "Requirement already satisfied: six>=1.5 in c:\\users\\nathanluke\\anaconda3\\lib\\site-packages (from python-dateutil>=2.8.1->pandas) (1.16.0)\n",
      "Requirement already satisfied: matplotlib in c:\\users\\nathanluke\\anaconda3\\lib\\site-packages (3.5.2)\n",
      "Requirement already satisfied: cycler>=0.10 in c:\\users\\nathanluke\\anaconda3\\lib\\site-packages (from matplotlib) (0.11.0)\n",
      "Requirement already satisfied: python-dateutil>=2.7 in c:\\users\\nathanluke\\anaconda3\\lib\\site-packages (from matplotlib) (2.8.2)\n",
      "Requirement already satisfied: numpy>=1.17 in c:\\users\\nathanluke\\anaconda3\\lib\\site-packages (from matplotlib) (1.21.5)\n",
      "Requirement already satisfied: packaging>=20.0 in c:\\users\\nathanluke\\anaconda3\\lib\\site-packages (from matplotlib) (21.3)\n",
      "Requirement already satisfied: pyparsing>=2.2.1 in c:\\users\\nathanluke\\anaconda3\\lib\\site-packages (from matplotlib) (3.0.9)\n",
      "Requirement already satisfied: kiwisolver>=1.0.1 in c:\\users\\nathanluke\\anaconda3\\lib\\site-packages (from matplotlib) (1.4.2)\n",
      "Requirement already satisfied: pillow>=6.2.0 in c:\\users\\nathanluke\\anaconda3\\lib\\site-packages (from matplotlib) (10.0.1)\n",
      "Requirement already satisfied: fonttools>=4.22.0 in c:\\users\\nathanluke\\anaconda3\\lib\\site-packages (from matplotlib) (4.25.0)\n",
      "Requirement already satisfied: six>=1.5 in c:\\users\\nathanluke\\anaconda3\\lib\\site-packages (from python-dateutil>=2.7->matplotlib) (1.16.0)\n",
      "Requirement already satisfied: numpy in c:\\users\\nathanluke\\anaconda3\\lib\\site-packages (1.21.5)\n"
     ]
    }
   ],
   "source": [
    "#install all required packages \n",
    "!pip install ideastatica-rcs-client>=23.1.4.1107\n",
    "!pip install xmltodict\n",
    "!pip install pandas\n",
    "!pip install matplotlib\n",
    "!pip install numpy"
   ]
  },
  {
   "cell_type": "code",
   "execution_count": 11,
   "id": "bf2ae5a2-4f09-4e1d-9e2a-de46ea3b7307",
   "metadata": {},
   "outputs": [],
   "source": [
    "import matplotlib as mpl\n",
    "import matplotlib.pyplot as plt\n",
    "import numpy as np"
   ]
  },
  {
   "cell_type": "markdown",
   "id": "806c1f84-1d8b-4812-a2f1-266d54042412",
   "metadata": {},
   "source": [
    "# Retrieve avaliable sections in the Project"
   ]
  },
  {
   "cell_type": "code",
   "execution_count": 12,
   "id": "1f3f2853-ae21-4f36-a6eb-32d896385205",
   "metadata": {},
   "outputs": [
    {
     "name": "stdout",
     "output_type": "stream",
     "text": [
      "{'TcpPort': 59939, 'IdeaStatiCaSetupDir': 'C:\\\\Program Files\\\\IDEA StatiCa\\\\StatiCa 23.1\\\\', 'RcsApiServicePath': 'C:\\\\Program Files\\\\IDEA StatiCa\\\\StatiCa 23.1\\\\net6.0-windows\\\\IdeaStatiCa.RcsRestApi.exe'}\n",
      "None\n",
      "closing IdeaStatiCa.RcsRestApi.exe\n"
     ]
    },
    {
     "data": {
      "text/html": [
       "<div>\n",
       "<style scoped>\n",
       "    .dataframe tbody tr th:only-of-type {\n",
       "        vertical-align: middle;\n",
       "    }\n",
       "\n",
       "    .dataframe tbody tr th {\n",
       "        vertical-align: top;\n",
       "    }\n",
       "\n",
       "    .dataframe thead th {\n",
       "        text-align: right;\n",
       "    }\n",
       "</style>\n",
       "<table border=\"1\" class=\"dataframe\">\n",
       "  <thead>\n",
       "    <tr style=\"text-align: right;\">\n",
       "      <th></th>\n",
       "      <th>Id</th>\n",
       "      <th>Name</th>\n",
       "      <th>RfCssId</th>\n",
       "      <th>Member</th>\n",
       "    </tr>\n",
       "  </thead>\n",
       "  <tbody>\n",
       "    <tr>\n",
       "      <th>0</th>\n",
       "      <td>1</td>\n",
       "      <td>S 1</td>\n",
       "      <td>1</td>\n",
       "      <td>1</td>\n",
       "    </tr>\n",
       "    <tr>\n",
       "      <th>1</th>\n",
       "      <td>3</td>\n",
       "      <td>S 2</td>\n",
       "      <td>1</td>\n",
       "      <td>1</td>\n",
       "    </tr>\n",
       "  </tbody>\n",
       "</table>\n",
       "</div>"
      ],
      "text/plain": [
       "  Id Name RfCssId Member\n",
       "0  1  S 1       1      1\n",
       "1  3  S 2       1      1"
      ]
     },
     "execution_count": 12,
     "metadata": {},
     "output_type": "execute_result"
    }
   ],
   "source": [
    "import project_calculator\n",
    "\n",
    "# file name of a rsc project to be calculate\n",
    "project_to_calculate = r\"Project2.IdeaRcs\"\n",
    "\n",
    "# det details from the rcs project\n",
    "df_sections = project_calculator.get_section_details(project_to_calculate)\n",
    "\n",
    "df_sections"
   ]
  },
  {
   "cell_type": "markdown",
   "id": "d0975b60-ac48-4fcb-b81b-e24baf72bebb",
   "metadata": {},
   "source": [
    "# Run loop of template application, calculation and results"
   ]
  },
  {
   "cell_type": "code",
   "execution_count": null,
   "id": "9aa18f1d-c4af-42fa-9b52-52eac15e0933",
   "metadata": {},
   "outputs": [
    {
     "name": "stdout",
     "output_type": "stream",
     "text": [
      "ideastatica_rcs_client package initialized\n",
      "{'TcpPort': 56172, 'IdeaStatiCaSetupDir': 'C:\\\\Program Files\\\\IDEA StatiCa\\\\StatiCa 23.1\\\\', 'RcsApiServicePath': 'C:\\\\Program Files\\\\IDEA StatiCa\\\\StatiCa 23.1\\\\net6.0-windows\\\\IdeaStatiCa.RcsRestApi.exe'}\n",
      "None\n",
      "closing IdeaStatiCa.RcsRestApi.exe\n"
     ]
    },
    {
     "data": {
      "text/html": [
       "<div>\n",
       "<style scoped>\n",
       "    .dataframe tbody tr th:only-of-type {\n",
       "        vertical-align: middle;\n",
       "    }\n",
       "\n",
       "    .dataframe tbody tr th {\n",
       "        vertical-align: top;\n",
       "    }\n",
       "\n",
       "    .dataframe thead th {\n",
       "        text-align: right;\n",
       "    }\n",
       "</style>\n",
       "<table border=\"1\" class=\"dataframe\">\n",
       "  <thead>\n",
       "    <tr style=\"text-align: right;\">\n",
       "      <th></th>\n",
       "      <th>Id</th>\n",
       "      <th>Name</th>\n",
       "      <th>RfCssId</th>\n",
       "      <th>Member</th>\n",
       "    </tr>\n",
       "  </thead>\n",
       "  <tbody>\n",
       "    <tr>\n",
       "      <th>0</th>\n",
       "      <td>1</td>\n",
       "      <td>S 1</td>\n",
       "      <td>1</td>\n",
       "      <td>1</td>\n",
       "    </tr>\n",
       "    <tr>\n",
       "      <th>1</th>\n",
       "      <td>3</td>\n",
       "      <td>S 2</td>\n",
       "      <td>1</td>\n",
       "      <td>1</td>\n",
       "    </tr>\n",
       "  </tbody>\n",
       "</table>\n",
       "</div>"
      ],
      "text/plain": [
       "  Id Name RfCssId Member\n",
       "0  1  S 1       1      1\n",
       "1  3  S 2       1      1"
      ]
     },
     "execution_count": 1,
     "metadata": {},
     "output_type": "execute_result"
    }
   ],
   "source": [
    "import project_calculator\n",
    "\n",
    "# file name of a rsc project to be calculate\n",
    "project_to_calculate = r\"Project2.IdeaRcs\"\n",
    "\n",
    "# det details from the rcs project\n",
    "df_sections = project_calculator.get_section_details(project_to_calculate)\n",
    "\n",
    "df_sections"
   ]
  },
  {
   "cell_type": "code",
   "execution_count": 13,
   "id": "80ec9437-833e-4ba2-b616-25e8a312528a",
   "metadata": {
    "tags": []
   },
   "outputs": [
    {
     "name": "stdout",
     "output_type": "stream",
     "text": [
      "closing IdeaStatiCa.RcsRestApi.exe\n"
     ]
    },
    {
     "data": {
      "text/html": [
       "<div>\n",
       "<style scoped>\n",
       "    .dataframe tbody tr th:only-of-type {\n",
       "        vertical-align: middle;\n",
       "    }\n",
       "\n",
       "    .dataframe tbody tr th {\n",
       "        vertical-align: top;\n",
       "    }\n",
       "\n",
       "    .dataframe thead th {\n",
       "        text-align: right;\n",
       "    }\n",
       "</style>\n",
       "<table border=\"1\" class=\"dataframe\">\n",
       "  <thead>\n",
       "    <tr style=\"text-align: right;\">\n",
       "      <th></th>\n",
       "      <th>SecId</th>\n",
       "      <th>SecName</th>\n",
       "      <th>Template</th>\n",
       "      <th>RfId</th>\n",
       "      <th>Capacity</th>\n",
       "      <th>Shear</th>\n",
       "      <th>Interaction</th>\n",
       "      <th>CrackWidth</th>\n",
       "      <th>Response</th>\n",
       "      <th>StressLimitation</th>\n",
       "    </tr>\n",
       "  </thead>\n",
       "  <tbody>\n",
       "    <tr>\n",
       "      <th>0</th>\n",
       "      <td>1</td>\n",
       "      <td>S 1</td>\n",
       "      <td>rect-L-2-2.nav</td>\n",
       "      <td>3</td>\n",
       "      <td>0.416849</td>\n",
       "      <td>0.144027</td>\n",
       "      <td>0.480799</td>\n",
       "      <td>0.747243</td>\n",
       "      <td>0.460183</td>\n",
       "      <td>0.460183</td>\n",
       "    </tr>\n",
       "    <tr>\n",
       "      <th>1</th>\n",
       "      <td>1</td>\n",
       "      <td>S 1</td>\n",
       "      <td>rect-L-3-2.nav</td>\n",
       "      <td>4</td>\n",
       "      <td>0.303138</td>\n",
       "      <td>0.142314</td>\n",
       "      <td>0.335107</td>\n",
       "      <td>0.405600</td>\n",
       "      <td>0.320614</td>\n",
       "      <td>0.320614</td>\n",
       "    </tr>\n",
       "    <tr>\n",
       "      <th>2</th>\n",
       "      <td>1</td>\n",
       "      <td>S 1</td>\n",
       "      <td>rect-L-4-2.nav</td>\n",
       "      <td>5</td>\n",
       "      <td>0.239403</td>\n",
       "      <td>0.141946</td>\n",
       "      <td>0.257966</td>\n",
       "      <td>0.268512</td>\n",
       "      <td>0.251164</td>\n",
       "      <td>0.251164</td>\n",
       "    </tr>\n",
       "  </tbody>\n",
       "</table>\n",
       "</div>"
      ],
      "text/plain": [
       "   SecId SecName        Template RfId  Capacity     Shear  Interaction  \\\n",
       "0      1     S 1  rect-L-2-2.nav    3  0.416849  0.144027     0.480799   \n",
       "1      1     S 1  rect-L-3-2.nav    4  0.303138  0.142314     0.335107   \n",
       "2      1     S 1  rect-L-4-2.nav    5  0.239403  0.141946     0.257966   \n",
       "\n",
       "   CrackWidth  Response  StressLimitation  \n",
       "0    0.747243  0.460183          0.460183  \n",
       "1    0.405600  0.320614          0.320614  \n",
       "2    0.268512  0.251164          0.251164  "
      ]
     },
     "execution_count": 13,
     "metadata": {},
     "output_type": "execute_result"
    }
   ],
   "source": [
    "# section to calulate\n",
    "section_in_rcs_project = 1\n",
    "reinforced_css_templates = [\"rect-L-2-2.nav\",\"rect-L-3-2.nav\",\"rect-L-4-2.nav\"]\n",
    "# calculate all variants \n",
    "df_sectionChecks = project_calculator.calc_rcs_proj_variants(project_to_calculate, section_in_rcs_project, reinforced_css_templates)\n",
    "\n",
    "df_sectionChecks"
   ]
  },
  {
   "cell_type": "markdown",
   "id": "fe84fe51-0edd-4f11-a414-3159c53a74b4",
   "metadata": {},
   "source": [
    "# Plot the output of the Optimisation (matplotlib)"
   ]
  },
  {
   "cell_type": "code",
   "execution_count": 14,
   "id": "0cb97ffb-db4e-40f8-858e-ea06bc41d2a7",
   "metadata": {
    "tags": []
   },
   "outputs": [
    {
     "data": {
      "image/png": "[encoded data removed]",
      "text/plain": [
       "<Figure size 640x480 with 1 Axes>"
      ]
     },
     "metadata": {},
     "output_type": "display_data"
    }
   ],
   "source": [
    "x = np.arange(len(reinforced_css_templates))  # the label locations\n",
    "width = 0.25  # the width of the bars\n",
    "multiplier = 0\n",
    "\n",
    "checks = {\n",
    "    \"Capcity\": df_sectionChecks['Capacity'],\n",
    "    \"CrackWidth\": df_sectionChecks['CrackWidth'],\n",
    "    \"Interaction\": df_sectionChecks['Interaction'],    \n",
    "}\n",
    "\n",
    "#fig, ax = plt.subplots()\n",
    "fig, ax = plt.subplots(layout='constrained')\n",
    "\n",
    "for attribute, measurement in checks.items():\n",
    "    offset = width * multiplier\n",
    "    rects = ax.bar(x + offset, measurement, width, label=attribute)\n",
    "    ax.bar_label(rects, padding=3)\n",
    "    multiplier += 1\n",
    "\n",
    "ax.set_title('Checks for various templates')\n",
    "ax.set_ylabel('CheckValue')\n",
    "ax.set_xticks(x + width, df_sectionChecks['Template'])\n",
    "ax.legend(loc='upper left')\n",
    "ax.set_ylim(0, 1.1)\n",
    "plt.show()\n"
   ]
  },
  {
   "cell_type": "code",
   "execution_count": null,
   "id": "fa28a779-65a3-4ca2-a3f9-f135d2c5c199",
   "metadata": {},
   "outputs": [],
   "source": []
  }
 ],
 "metadata": {
  "kernelspec": {
   "display_name": "Python 3 (ipykernel)",
   "language": "python",
   "name": "python3"
  },
  "language_info": {
   "codemirror_mode": {
    "name": "ipython",
    "version": 3
   },
   "file_extension": ".py",
   "mimetype": "text/x-python",
   "name": "python",
   "nbconvert_exporter": "python",
   "pygments_lexer": "ipython3",
   "version": "3.9.13"
  },
  "toc-showtags": true
 },
 "nbformat": 4,
 "nbformat_minor": 5
}
