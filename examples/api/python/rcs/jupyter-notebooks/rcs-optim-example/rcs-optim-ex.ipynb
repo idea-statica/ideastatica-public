{
 "cells": [
  {
   "cell_type": "code",
   "execution_count": null,
   "id": "9d1e6b5f-55a5-4c76-a5e3-d65f37dda6a1",
   "metadata": {},
   "outputs": [],
   "source": [
    "#install all required packages \n",
    "!pip install ideastatica-rcs-client>=24.0.0.4380\n",
    "!pip install xmltodict\n",
    "!pip install pandas\n",
    "!pip install matplotlib\n",
    "!pip install numpy\n",
    "\n",
    "import matplotlib as mpl\n",
    "import matplotlib.pyplot as plt\n",
    "import numpy as np"
   ]
  },
  {
   "cell_type": "code",
   "execution_count": null,
   "id": "9aa18f1d-c4af-42fa-9b52-52eac15e0933",
   "metadata": {},
   "outputs": [],
   "source": [
    "import project_calculator\n",
    "\n",
    "# file name of a rsc project to be calculate\n",
    "project_to_calculate = r\"Project2.IdeaRcs\"\n",
    "\n",
    "# det details from the rcs project\n",
    "df_sections = project_calculator.get_section_details(project_to_calculate)\n",
    "\n",
    "df_sections"
   ]
  },
  {
   "cell_type": "code",
   "execution_count": null,
   "id": "80ec9437-833e-4ba2-b616-25e8a312528a",
   "metadata": {
    "tags": []
   },
   "outputs": [],
   "source": [
    "# section to calulate\n",
    "section_in_rcs_project = 1\n",
    "reinforced_css_templates = [\"rect-L-2-2.nav\",\"rect-L-3-2.nav\",\"rect-L-4-2.nav\"]\n",
    "# calculate all variants \n",
    "df_sectionChecks = project_calculator.calc_rcs_proj_variants(project_to_calculate, section_in_rcs_project, reinforced_css_templates)\n",
    "\n",
    "df_sectionChecks"
   ]
  },
  {
   "cell_type": "code",
   "execution_count": null,
   "id": "0cb97ffb-db4e-40f8-858e-ea06bc41d2a7",
   "metadata": {
    "tags": []
   },
   "outputs": [],
   "source": [
    "x = np.arange(len(reinforced_css_templates))  # the label locations\n",
    "width = 0.25  # the width of the bars\n",
    "multiplier = 0\n",
    "\n",
    "checks = {\n",
    "    \"Capcity\": df_sectionChecks['Capacity'],\n",
    "    \"CrackWidth\": df_sectionChecks['CrackWidth'],\n",
    "    \"Interaction\": df_sectionChecks['Interaction'],    \n",
    "}\n",
    "\n",
    "#fig, ax = plt.subplots()\n",
    "fig, ax = plt.subplots(layout='constrained')\n",
    "\n",
    "for attribute, measurement in checks.items():\n",
    "    offset = width * multiplier\n",
    "    rects = ax.bar(x + offset, measurement, width, label=attribute)\n",
    "    ax.bar_label(rects, padding=3)\n",
    "    multiplier += 1\n",
    "\n",
    "ax.set_title('Checks for various templates')\n",
    "ax.set_ylabel('CheckValue')\n",
    "ax.set_xticks(x + width, df_sectionChecks['Template'])\n",
    "ax.legend(loc='upper left', ncols=3)\n",
    "ax.set_ylim(0, 1.1)\n",
    "plt.show()\n"
   ]
  },
  {
   "cell_type": "code",
   "execution_count": null,
   "id": "2892d6b0-eb35-4633-b0ac-809c762e77b9",
   "metadata": {},
   "outputs": [],
   "source": []
  }
 ],
 "metadata": {
  "kernelspec": {
   "display_name": "Python 3 (ipykernel)",
   "language": "python",
   "name": "python3"
  },
  "language_info": {
   "codemirror_mode": {
    "name": "ipython",
    "version": 3
   },
   "file_extension": ".py",
   "mimetype": "text/x-python",
   "name": "python",
   "nbconvert_exporter": "python",
   "pygments_lexer": "ipython3",
   "version": "3.11.5"
  },
  "toc-showtags": true
 },
 "nbformat": 4,
 "nbformat_minor": 5
}
