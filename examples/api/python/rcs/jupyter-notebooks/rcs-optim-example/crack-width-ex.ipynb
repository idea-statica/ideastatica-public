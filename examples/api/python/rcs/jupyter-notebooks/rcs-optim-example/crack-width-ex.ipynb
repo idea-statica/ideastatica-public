{
 "cells": [
  {
   "cell_type": "code",
   "execution_count": null,
   "id": "c9ba2480-0ebc-48a0-97f8-4f2ed6df638c",
   "metadata": {},
   "outputs": [],
   "source": [
    "#install all required packages \n",
    "!pip install ideastatica-rcs-client>=24.0.0.4380\n",
    "!pip install xmltodict\n",
    "!pip install pandas\n",
    "!pip install matplotlib\n",
    "!pip install numpy\n",
    "\n",
    "import matplotlib as mpl\n",
    "import matplotlib.pyplot as plt\n",
    "import numpy as np"
   ]
  },
  {
   "cell_type": "code",
   "execution_count": null,
   "id": "a1137d8e-a9c9-4835-9e00-84aea2ad530e",
   "metadata": {
    "tags": []
   },
   "outputs": [],
   "source": [
    "import project_calculator\n",
    "\n",
    "# file name of a rsc project to be calculate\n",
    "project_to_calculate = r\"crack-width-example.IdeaRcs\"\n",
    "moment_step = 3000\n",
    "\n",
    "# det details from the rcs project\n",
    "df_sections = project_calculator.get_section_details(project_to_calculate)\n",
    "\n",
    "df_sections"
   ]
  },
  {
   "cell_type": "code",
   "execution_count": null,
   "id": "34bde50f-cc35-4d23-aa96-2dded5360ae8",
   "metadata": {
    "tags": []
   },
   "outputs": [],
   "source": [
    "# section to calulate\n",
    "section_in_rcs_project = 1\n",
    "df_check = project_calculator.calc_rcs_crack_width(project_to_calculate, section_in_rcs_project, moment_step)\n",
    "\n",
    "df_check"
   ]
  },
  {
   "cell_type": "code",
   "execution_count": null,
   "id": "e89d3d40-2756-4297-b4c0-9b411c13adcd",
   "metadata": {
    "tags": []
   },
   "outputs": [],
   "source": [
    "df_check.plot(x=\"capacity\", y=[\"CrackWidth\"])\n",
    " \n",
    "# Display plot\n",
    "plt.show()\n",
    "\n"
   ]
  },
  {
   "cell_type": "code",
   "execution_count": null,
   "id": "2fd11c20-03b7-4f6e-b3f4-7913c7a1b346",
   "metadata": {},
   "outputs": [],
   "source": []
  }
 ],
 "metadata": {
  "kernelspec": {
   "display_name": "Python 3 (ipykernel)",
   "language": "python",
   "name": "python3"
  },
  "language_info": {
   "codemirror_mode": {
    "name": "ipython",
    "version": 3
   },
   "file_extension": ".py",
   "mimetype": "text/x-python",
   "name": "python",
   "nbconvert_exporter": "python",
   "pygments_lexer": "ipython3",
   "version": "3.11.5"
  }
 },
 "nbformat": 4,
 "nbformat_minor": 5
}
