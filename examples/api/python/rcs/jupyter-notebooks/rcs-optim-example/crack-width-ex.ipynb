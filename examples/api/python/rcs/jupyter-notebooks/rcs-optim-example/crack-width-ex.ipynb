{
 "cells": [
  {
   "cell_type": "markdown",
   "id": "9d5423c2-b653-40b6-8d97-a5c7c118bd0e",
   "metadata": {
    "tags": []
   },
   "source": [
    "# Example - Crack width study\n",
    "\n",
    "The following example shows some of the features of the new RCS API.\n",
    "\n",
    "Taking an existing file with a section that has a pre-defined reinforced cross-section we can modify the loading on the section to study effects the effects of the capcaity and crack width.\n",
    "\n",
    "## Crack width study method\n",
    "\n",
    "We can take the base model **crack-width-example.IdeaRcs** and open it using the API, we can then make modifications to it. \n",
    "\n",
    "After we open the project we will automate the following steps:\n",
    "1. Increment the current internal force **My** by a choosen increment of moment loading.\n",
    "2. Run the calculation.\n",
    "3. Extract the results we want to check from the calculation - actually crack width.\n",
    "4. Add the results to a dataframe which we can use to plot on a graph.\n",
    "\n",
    "Below is and image of the base cross-section.\n",
    "\n",
    "<img src=\"crack_width_section.png\" alt=\"section\" style=\"border: 2px solid black\">"
   ]
  },
  {
   "cell_type": "markdown",
   "id": "fdb9587b-6f3b-47c1-a48e-ec5e67ba8e5d",
   "metadata": {},
   "source": [
    "## Ensure required packages are installed"
   ]
  },
  {
   "cell_type": "code",
   "execution_count": 1,
   "id": "c9ba2480-0ebc-48a0-97f8-4f2ed6df638c",
   "metadata": {},
   "outputs": [
    {
     "name": "stdout",
     "output_type": "stream",
     "text": [
      "Requirement already satisfied: xmltodict in c:\\users\\nathanluke\\anaconda3\\lib\\site-packages (0.13.0)\n",
      "Requirement already satisfied: pandas in c:\\users\\nathanluke\\anaconda3\\lib\\site-packages (1.4.4)\n",
      "Requirement already satisfied: pytz>=2020.1 in c:\\users\\nathanluke\\anaconda3\\lib\\site-packages (from pandas) (2022.1)\n",
      "Requirement already satisfied: python-dateutil>=2.8.1 in c:\\users\\nathanluke\\anaconda3\\lib\\site-packages (from pandas) (2.8.2)\n",
      "Requirement already satisfied: numpy>=1.18.5 in c:\\users\\nathanluke\\anaconda3\\lib\\site-packages (from pandas) (1.21.5)\n",
      "Requirement already satisfied: six>=1.5 in c:\\users\\nathanluke\\anaconda3\\lib\\site-packages (from python-dateutil>=2.8.1->pandas) (1.16.0)\n",
      "Requirement already satisfied: matplotlib in c:\\users\\nathanluke\\anaconda3\\lib\\site-packages (3.5.2)\n",
      "Requirement already satisfied: packaging>=20.0 in c:\\users\\nathanluke\\anaconda3\\lib\\site-packages (from matplotlib) (21.3)\n",
      "Requirement already satisfied: fonttools>=4.22.0 in c:\\users\\nathanluke\\anaconda3\\lib\\site-packages (from matplotlib) (4.25.0)\n",
      "Requirement already satisfied: pyparsing>=2.2.1 in c:\\users\\nathanluke\\anaconda3\\lib\\site-packages (from matplotlib) (3.0.9)\n",
      "Requirement already satisfied: cycler>=0.10 in c:\\users\\nathanluke\\anaconda3\\lib\\site-packages (from matplotlib) (0.11.0)\n",
      "Requirement already satisfied: numpy>=1.17 in c:\\users\\nathanluke\\anaconda3\\lib\\site-packages (from matplotlib) (1.21.5)\n",
      "Requirement already satisfied: kiwisolver>=1.0.1 in c:\\users\\nathanluke\\anaconda3\\lib\\site-packages (from matplotlib) (1.4.2)\n",
      "Requirement already satisfied: pillow>=6.2.0 in c:\\users\\nathanluke\\anaconda3\\lib\\site-packages (from matplotlib) (10.0.1)\n",
      "Requirement already satisfied: python-dateutil>=2.7 in c:\\users\\nathanluke\\anaconda3\\lib\\site-packages (from matplotlib) (2.8.2)\n",
      "Requirement already satisfied: six>=1.5 in c:\\users\\nathanluke\\anaconda3\\lib\\site-packages (from python-dateutil>=2.7->matplotlib) (1.16.0)\n",
      "Requirement already satisfied: numpy in c:\\users\\nathanluke\\anaconda3\\lib\\site-packages (1.21.5)\n"
     ]
    }
   ],
   "source": [
    "#install all required packages \n",
    "!pip install ideastatica-rcs-client>=24.0.0.4380\n",
    "!pip install xmltodict\n",
    "!pip install pandas\n",
    "!pip install matplotlib\n",
    "!pip install numpy\n",
    "\n",
    "import matplotlib as mpl\n",
    "import matplotlib.pyplot as plt\n",
    "import numpy as np"
   ]
  },
  {
   "cell_type": "markdown",
   "id": "6bea5428-a4be-412b-88da-2f9c80ec0f47",
   "metadata": {},
   "source": [
    "# Open existing project and get section details"
   ]
  },
  {
   "cell_type": "code",
   "execution_count": 2,
   "id": "a1137d8e-a9c9-4835-9e00-84aea2ad530e",
   "metadata": {
    "tags": []
   },
   "outputs": [
    {
     "name": "stdout",
     "output_type": "stream",
     "text": [
      "ideastatica_rcs_client package initialized\n",
      "{'TcpPort': 60945, 'IdeaStatiCaSetupDir': 'C:\\\\Program Files\\\\IDEA StatiCa\\\\StatiCa 23.1\\\\', 'RcsApiServicePath': 'C:\\\\Program Files\\\\IDEA StatiCa\\\\StatiCa 23.1\\\\net6.0-windows\\\\IdeaStatiCa.RcsRestApi.exe'}\n",
      "None\n",
      "closing IdeaStatiCa.RcsRestApi.exe\n"
     ]
    },
    {
     "data": {
      "text/html": [
       "<div>\n",
       "<style scoped>\n",
       "    .dataframe tbody tr th:only-of-type {\n",
       "        vertical-align: middle;\n",
       "    }\n",
       "\n",
       "    .dataframe tbody tr th {\n",
       "        vertical-align: top;\n",
       "    }\n",
       "\n",
       "    .dataframe thead th {\n",
       "        text-align: right;\n",
       "    }\n",
       "</style>\n",
       "<table border=\"1\" class=\"dataframe\">\n",
       "  <thead>\n",
       "    <tr style=\"text-align: right;\">\n",
       "      <th></th>\n",
       "      <th>Id</th>\n",
       "      <th>Name</th>\n",
       "      <th>RfCssId</th>\n",
       "      <th>Member</th>\n",
       "    </tr>\n",
       "  </thead>\n",
       "  <tbody>\n",
       "    <tr>\n",
       "      <th>0</th>\n",
       "      <td>1</td>\n",
       "      <td>S 1</td>\n",
       "      <td>1</td>\n",
       "      <td>1</td>\n",
       "    </tr>\n",
       "  </tbody>\n",
       "</table>\n",
       "</div>"
      ],
      "text/plain": [
       "  Id Name RfCssId Member\n",
       "0  1  S 1       1      1"
      ]
     },
     "execution_count": 2,
     "metadata": {},
     "output_type": "execute_result"
    }
   ],
   "source": [
    "import project_calculator\n",
    "\n",
    "# file name of a rsc project to be calculate\n",
    "project_to_calculate = r\"crack-width-example.IdeaRcs\"\n",
    "\n",
    "#The increment of moment increase after each step.\n",
    "moment_step = 3000\n",
    "\n",
    "# det details from the rcs project\n",
    "df_sections = project_calculator.get_section_details(project_to_calculate)\n",
    "\n",
    "df_sections"
   ]
  },
  {
   "cell_type": "code",
   "execution_count": 6,
   "id": "34bde50f-cc35-4d23-aa96-2dded5360ae8",
   "metadata": {
    "tags": []
   },
   "outputs": [
    {
     "name": "stdout",
     "output_type": "stream",
     "text": [
      "Section 'S 1' capacity 0.08133042503979834\n",
      "sectId 1 Fu.My =  61477.608134388734\n",
      "closing IdeaStatiCa.RcsRestApi.exe\n"
     ]
    },
    {
     "data": {
      "text/html": [
       "<div>\n",
       "<style scoped>\n",
       "    .dataframe tbody tr th:only-of-type {\n",
       "        vertical-align: middle;\n",
       "    }\n",
       "\n",
       "    .dataframe tbody tr th {\n",
       "        vertical-align: top;\n",
       "    }\n",
       "\n",
       "    .dataframe thead th {\n",
       "        text-align: right;\n",
       "    }\n",
       "</style>\n",
       "<table border=\"1\" class=\"dataframe\">\n",
       "  <thead>\n",
       "    <tr style=\"text-align: right;\">\n",
       "      <th></th>\n",
       "      <th>my</th>\n",
       "      <th>capacity</th>\n",
       "      <th>CrackWidth [mm]</th>\n",
       "    </tr>\n",
       "  </thead>\n",
       "  <tbody>\n",
       "    <tr>\n",
       "      <th>0</th>\n",
       "      <td>5000.000000</td>\n",
       "      <td>0.081330</td>\n",
       "      <td>0.000000</td>\n",
       "    </tr>\n",
       "    <tr>\n",
       "      <th>1</th>\n",
       "      <td>8000.000000</td>\n",
       "      <td>0.130129</td>\n",
       "      <td>0.000000</td>\n",
       "    </tr>\n",
       "    <tr>\n",
       "      <th>2</th>\n",
       "      <td>11000.000000</td>\n",
       "      <td>0.178927</td>\n",
       "      <td>0.000000</td>\n",
       "    </tr>\n",
       "    <tr>\n",
       "      <th>3</th>\n",
       "      <td>14000.000000</td>\n",
       "      <td>0.227725</td>\n",
       "      <td>0.000000</td>\n",
       "    </tr>\n",
       "    <tr>\n",
       "      <th>4</th>\n",
       "      <td>17000.000000</td>\n",
       "      <td>0.276523</td>\n",
       "      <td>0.000000</td>\n",
       "    </tr>\n",
       "    <tr>\n",
       "      <th>5</th>\n",
       "      <td>20000.000000</td>\n",
       "      <td>0.325322</td>\n",
       "      <td>0.000000</td>\n",
       "    </tr>\n",
       "    <tr>\n",
       "      <th>6</th>\n",
       "      <td>23000.000000</td>\n",
       "      <td>0.374120</td>\n",
       "      <td>0.000000</td>\n",
       "    </tr>\n",
       "    <tr>\n",
       "      <th>7</th>\n",
       "      <td>26000.000000</td>\n",
       "      <td>0.422918</td>\n",
       "      <td>0.213776</td>\n",
       "    </tr>\n",
       "    <tr>\n",
       "      <th>8</th>\n",
       "      <td>29000.000000</td>\n",
       "      <td>0.471716</td>\n",
       "      <td>0.238442</td>\n",
       "    </tr>\n",
       "    <tr>\n",
       "      <th>9</th>\n",
       "      <td>32000.000000</td>\n",
       "      <td>0.520515</td>\n",
       "      <td>0.268581</td>\n",
       "    </tr>\n",
       "    <tr>\n",
       "      <th>10</th>\n",
       "      <td>35000.000000</td>\n",
       "      <td>0.569313</td>\n",
       "      <td>0.308653</td>\n",
       "    </tr>\n",
       "    <tr>\n",
       "      <th>11</th>\n",
       "      <td>38000.000000</td>\n",
       "      <td>0.618111</td>\n",
       "      <td>0.348725</td>\n",
       "    </tr>\n",
       "    <tr>\n",
       "      <th>12</th>\n",
       "      <td>41000.000000</td>\n",
       "      <td>0.666909</td>\n",
       "      <td>0.388796</td>\n",
       "    </tr>\n",
       "    <tr>\n",
       "      <th>13</th>\n",
       "      <td>44000.000000</td>\n",
       "      <td>0.715708</td>\n",
       "      <td>0.428868</td>\n",
       "    </tr>\n",
       "    <tr>\n",
       "      <th>14</th>\n",
       "      <td>47000.000000</td>\n",
       "      <td>0.764506</td>\n",
       "      <td>0.468940</td>\n",
       "    </tr>\n",
       "    <tr>\n",
       "      <th>15</th>\n",
       "      <td>50000.000000</td>\n",
       "      <td>0.813304</td>\n",
       "      <td>0.509012</td>\n",
       "    </tr>\n",
       "    <tr>\n",
       "      <th>16</th>\n",
       "      <td>53000.000000</td>\n",
       "      <td>0.862103</td>\n",
       "      <td>0.549084</td>\n",
       "    </tr>\n",
       "    <tr>\n",
       "      <th>17</th>\n",
       "      <td>56000.000000</td>\n",
       "      <td>0.910901</td>\n",
       "      <td>0.589156</td>\n",
       "    </tr>\n",
       "    <tr>\n",
       "      <th>18</th>\n",
       "      <td>59000.000000</td>\n",
       "      <td>0.959699</td>\n",
       "      <td>0.629228</td>\n",
       "    </tr>\n",
       "    <tr>\n",
       "      <th>19</th>\n",
       "      <td>61477.608134</td>\n",
       "      <td>1.000000</td>\n",
       "      <td>0.662322</td>\n",
       "    </tr>\n",
       "  </tbody>\n",
       "</table>\n",
       "</div>"
      ],
      "text/plain": [
       "              my  capacity  CrackWidth [mm]\n",
       "0    5000.000000  0.081330         0.000000\n",
       "1    8000.000000  0.130129         0.000000\n",
       "2   11000.000000  0.178927         0.000000\n",
       "3   14000.000000  0.227725         0.000000\n",
       "4   17000.000000  0.276523         0.000000\n",
       "5   20000.000000  0.325322         0.000000\n",
       "6   23000.000000  0.374120         0.000000\n",
       "7   26000.000000  0.422918         0.213776\n",
       "8   29000.000000  0.471716         0.238442\n",
       "9   32000.000000  0.520515         0.268581\n",
       "10  35000.000000  0.569313         0.308653\n",
       "11  38000.000000  0.618111         0.348725\n",
       "12  41000.000000  0.666909         0.388796\n",
       "13  44000.000000  0.715708         0.428868\n",
       "14  47000.000000  0.764506         0.468940\n",
       "15  50000.000000  0.813304         0.509012\n",
       "16  53000.000000  0.862103         0.549084\n",
       "17  56000.000000  0.910901         0.589156\n",
       "18  59000.000000  0.959699         0.629228\n",
       "19  61477.608134  1.000000         0.662322"
      ]
     },
     "execution_count": 6,
     "metadata": {},
     "output_type": "execute_result"
    }
   ],
   "source": [
    "# section to calulate\n",
    "section_in_rcs_project = 1\n",
    "df_check = project_calculator.calc_rcs_crack_width(project_to_calculate, section_in_rcs_project, moment_step)\n",
    "\n",
    "df_check"
   ]
  },
  {
   "cell_type": "code",
   "execution_count": 7,
   "id": "e89d3d40-2756-4297-b4c0-9b411c13adcd",
   "metadata": {
    "tags": []
   },
   "outputs": [
    {
     "data": {
      "image/png": "[encoded data removed]",
      "text/plain": [
       "<Figure size 640x480 with 1 Axes>"
      ]
     },
     "metadata": {},
     "output_type": "display_data"
    }
   ],
   "source": [
    "df_check.plot(x=\"capacity\", y=[\"CrackWidth [mm]\"])\n",
    " \n",
    "# Display plot\n",
    "plt.show()\n",
    "\n"
   ]
  },
  {
   "cell_type": "code",
   "execution_count": null,
   "id": "7d53606b-6145-4cfa-a841-4ebbe6b17a95",
   "metadata": {},
   "outputs": [],
   "source": []
  }
 ],
 "metadata": {
  "kernelspec": {
   "display_name": "Python 3 (ipykernel)",
   "language": "python",
   "name": "python3"
  },
  "language_info": {
   "codemirror_mode": {
    "name": "ipython",
    "version": 3
   },
   "file_extension": ".py",
   "mimetype": "text/x-python",
   "name": "python",
   "nbconvert_exporter": "python",
   "pygments_lexer": "ipython3",
   "version": "3.9.13"
  }
 },
 "nbformat": 4,
 "nbformat_minor": 5
}
